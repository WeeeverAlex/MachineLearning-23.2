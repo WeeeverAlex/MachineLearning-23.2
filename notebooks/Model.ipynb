{
 "cells": [
  {
   "cell_type": "code",
   "execution_count": 2,
   "metadata": {},
   "outputs": [],
   "source": [
    "import pickle\n",
    "import pathlib\n",
    "\n",
    "import numpy as np\n",
    "import pandas as pd"
   ]
  },
  {
   "cell_type": "code",
   "execution_count": 3,
   "metadata": {},
   "outputs": [
    {
     "name": "stdout",
     "output_type": "stream",
     "text": [
      "/Users/alexwever/Desktop/2023.2/Machine Learning/MachineLearning-23.2-1/data\n"
     ]
    }
   ],
   "source": [
    "DATA_DIR = pathlib.Path.cwd().parent / 'data'\n",
    "print(DATA_DIR)"
   ]
  },
  {
   "cell_type": "code",
   "execution_count": 4,
   "metadata": {},
   "outputs": [],
   "source": [
    "clean_data_path = DATA_DIR / 'processed' / 'ames_clean.pkl'"
   ]
  },
  {
   "cell_type": "code",
   "execution_count": 5,
   "metadata": {},
   "outputs": [],
   "source": [
    "with open(clean_data_path, 'rb') as file:\n",
    "    data = pickle.load(file)"
   ]
  },
  {
   "cell_type": "code",
   "execution_count": 6,
   "metadata": {},
   "outputs": [
    {
     "name": "stdout",
     "output_type": "stream",
     "text": [
      "<class 'pandas.core.frame.DataFrame'>\n",
      "Int64Index: 2877 entries, 0 to 2929\n",
      "Data columns (total 70 columns):\n",
      " #   Column           Non-Null Count  Dtype   \n",
      "---  ------           --------------  -----   \n",
      " 0   MS.SubClass      2877 non-null   category\n",
      " 1   MS.Zoning        2877 non-null   category\n",
      " 2   Lot.Frontage     2877 non-null   float64 \n",
      " 3   Lot.Area         2877 non-null   float64 \n",
      " 4   Lot.Shape        2877 non-null   category\n",
      " 5   Land.Contour     2877 non-null   category\n",
      " 6   Lot.Config       2877 non-null   category\n",
      " 7   Land.Slope       2877 non-null   category\n",
      " 8   Neighborhood     2877 non-null   category\n",
      " 9   Bldg.Type        2877 non-null   category\n",
      " 10  House.Style      2877 non-null   category\n",
      " 11  Overall.Qual     2877 non-null   category\n",
      " 12  Overall.Cond     2877 non-null   category\n",
      " 13  Roof.Style       2877 non-null   category\n",
      " 14  Mas.Vnr.Type     2877 non-null   category\n",
      " 15  Mas.Vnr.Area     2877 non-null   float64 \n",
      " 16  Exter.Qual       2877 non-null   category\n",
      " 17  Exter.Cond       2877 non-null   category\n",
      " 18  Foundation       2877 non-null   category\n",
      " 19  Bsmt.Qual        2877 non-null   category\n",
      " 20  Bsmt.Cond        2877 non-null   category\n",
      " 21  Bsmt.Exposure    2877 non-null   category\n",
      " 22  BsmtFin.Type.1   2877 non-null   category\n",
      " 23  BsmtFin.SF.1     2877 non-null   float64 \n",
      " 24  BsmtFin.Type.2   2877 non-null   category\n",
      " 25  BsmtFin.SF.2     2877 non-null   float64 \n",
      " 26  Bsmt.Unf.SF      2877 non-null   float64 \n",
      " 27  Total.Bsmt.SF    2877 non-null   float64 \n",
      " 28  Heating.QC       2877 non-null   category\n",
      " 29  Central.Air      2877 non-null   category\n",
      " 30  Electrical       2877 non-null   category\n",
      " 31  X1st.Flr.SF      2877 non-null   float64 \n",
      " 32  X2nd.Flr.SF      2877 non-null   float64 \n",
      " 33  Low.Qual.Fin.SF  2877 non-null   float64 \n",
      " 34  Gr.Liv.Area      2877 non-null   float64 \n",
      " 35  Bsmt.Full.Bath   2877 non-null   float64 \n",
      " 36  Bsmt.Half.Bath   2877 non-null   float64 \n",
      " 37  Full.Bath        2877 non-null   float64 \n",
      " 38  Half.Bath        2877 non-null   float64 \n",
      " 39  Bedroom.AbvGr    2877 non-null   float64 \n",
      " 40  Kitchen.AbvGr    2877 non-null   float64 \n",
      " 41  Kitchen.Qual     2877 non-null   category\n",
      " 42  TotRms.AbvGrd    2877 non-null   float64 \n",
      " 43  Functional       2877 non-null   category\n",
      " 44  Fireplaces       2877 non-null   float64 \n",
      " 45  Garage.Type      2877 non-null   category\n",
      " 46  Garage.Finish    2877 non-null   category\n",
      " 47  Garage.Cars      2877 non-null   float64 \n",
      " 48  Garage.Area      2877 non-null   float64 \n",
      " 49  Paved.Drive      2877 non-null   category\n",
      " 50  Wood.Deck.SF     2877 non-null   float64 \n",
      " 51  Open.Porch.SF    2877 non-null   float64 \n",
      " 52  Enclosed.Porch   2877 non-null   float64 \n",
      " 53  X3Ssn.Porch      2877 non-null   float64 \n",
      " 54  Screen.Porch     2877 non-null   float64 \n",
      " 55  Pool.Area        2877 non-null   float64 \n",
      " 56  Fence            2877 non-null   category\n",
      " 57  Misc.Val         2877 non-null   float64 \n",
      " 58  Mo.Sold          2877 non-null   float64 \n",
      " 59  Yr.Sold          2877 non-null   float64 \n",
      " 60  Sale.Type        2877 non-null   category\n",
      " 61  Sale.Condition   2877 non-null   category\n",
      " 62  SalePrice        2877 non-null   float64 \n",
      " 63  Condition        2877 non-null   category\n",
      " 64  HasShed          2877 non-null   bool    \n",
      " 65  HasAlley         2877 non-null   bool    \n",
      " 66  Exterior         2877 non-null   category\n",
      " 67  Garage.Age       2877 non-null   float64 \n",
      " 68  Remod.Age        2877 non-null   float64 \n",
      " 69  House.Age        2877 non-null   float64 \n",
      "dtypes: bool(2), category(34), float64(34)\n",
      "memory usage: 889.4 KB\n"
     ]
    }
   ],
   "source": [
    "data.info()"
   ]
  },
  {
   "cell_type": "code",
   "execution_count": 7,
   "metadata": {},
   "outputs": [],
   "source": [
    "model_data = data.copy()"
   ]
  },
  {
   "cell_type": "code",
   "execution_count": 8,
   "metadata": {},
   "outputs": [],
   "source": [
    "categorical_columns = []\n",
    "ordinal_columns = []\n",
    "for col in model_data.select_dtypes('category').columns:\n",
    "    if model_data[col].cat.ordered:\n",
    "        ordinal_columns.append(col)\n",
    "    else:\n",
    "        categorical_columns.append(col)"
   ]
  },
  {
   "cell_type": "code",
   "execution_count": 9,
   "metadata": {},
   "outputs": [
    {
     "data": {
      "text/plain": [
       "['Lot.Shape',\n",
       " 'Land.Slope',\n",
       " 'Overall.Qual',\n",
       " 'Overall.Cond',\n",
       " 'Exter.Qual',\n",
       " 'Exter.Cond',\n",
       " 'Heating.QC',\n",
       " 'Electrical',\n",
       " 'Kitchen.Qual',\n",
       " 'Functional',\n",
       " 'Paved.Drive',\n",
       " 'Fence']"
      ]
     },
     "execution_count": 9,
     "metadata": {},
     "output_type": "execute_result"
    }
   ],
   "source": [
    "ordinal_columns"
   ]
  },
  {
   "cell_type": "code",
   "execution_count": 10,
   "metadata": {},
   "outputs": [
    {
     "data": {
      "text/plain": [
       "['MS.SubClass',\n",
       " 'MS.Zoning',\n",
       " 'Land.Contour',\n",
       " 'Lot.Config',\n",
       " 'Neighborhood',\n",
       " 'Bldg.Type',\n",
       " 'House.Style',\n",
       " 'Roof.Style',\n",
       " 'Mas.Vnr.Type',\n",
       " 'Foundation',\n",
       " 'Bsmt.Qual',\n",
       " 'Bsmt.Cond',\n",
       " 'Bsmt.Exposure',\n",
       " 'BsmtFin.Type.1',\n",
       " 'BsmtFin.Type.2',\n",
       " 'Central.Air',\n",
       " 'Garage.Type',\n",
       " 'Garage.Finish',\n",
       " 'Sale.Type',\n",
       " 'Sale.Condition',\n",
       " 'Condition',\n",
       " 'Exterior']"
      ]
     },
     "execution_count": 10,
     "metadata": {},
     "output_type": "execute_result"
    }
   ],
   "source": [
    "categorical_columns"
   ]
  },
  {
   "cell_type": "code",
   "execution_count": 11,
   "metadata": {},
   "outputs": [],
   "source": [
    "for col in ordinal_columns:\n",
    "    codes, _ = pd.factorize(data[col], sort=True)\n",
    "    model_data[col] = codes"
   ]
  },
  {
   "cell_type": "code",
   "execution_count": 12,
   "metadata": {},
   "outputs": [
    {
     "name": "stdout",
     "output_type": "stream",
     "text": [
      "<class 'pandas.core.frame.DataFrame'>\n",
      "Int64Index: 2877 entries, 0 to 2929\n",
      "Data columns (total 12 columns):\n",
      " #   Column        Non-Null Count  Dtype\n",
      "---  ------        --------------  -----\n",
      " 0   Lot.Shape     2877 non-null   int64\n",
      " 1   Land.Slope    2877 non-null   int64\n",
      " 2   Overall.Qual  2877 non-null   int64\n",
      " 3   Overall.Cond  2877 non-null   int64\n",
      " 4   Exter.Qual    2877 non-null   int64\n",
      " 5   Exter.Cond    2877 non-null   int64\n",
      " 6   Heating.QC    2877 non-null   int64\n",
      " 7   Electrical    2877 non-null   int64\n",
      " 8   Kitchen.Qual  2877 non-null   int64\n",
      " 9   Functional    2877 non-null   int64\n",
      " 10  Paved.Drive   2877 non-null   int64\n",
      " 11  Fence         2877 non-null   int64\n",
      "dtypes: int64(12)\n",
      "memory usage: 292.2 KB\n"
     ]
    }
   ],
   "source": [
    "model_data[ordinal_columns].info()"
   ]
  },
  {
   "cell_type": "code",
   "execution_count": 13,
   "metadata": {},
   "outputs": [
    {
     "data": {
      "text/html": [
       "<div>\n",
       "<style scoped>\n",
       "    .dataframe tbody tr th:only-of-type {\n",
       "        vertical-align: middle;\n",
       "    }\n",
       "\n",
       "    .dataframe tbody tr th {\n",
       "        vertical-align: top;\n",
       "    }\n",
       "\n",
       "    .dataframe thead th {\n",
       "        text-align: right;\n",
       "    }\n",
       "</style>\n",
       "<table border=\"1\" class=\"dataframe\">\n",
       "  <thead>\n",
       "    <tr style=\"text-align: right;\">\n",
       "      <th></th>\n",
       "      <th>MS.SubClass</th>\n",
       "      <th>MS.Zoning</th>\n",
       "      <th>Lot.Frontage</th>\n",
       "      <th>Lot.Area</th>\n",
       "      <th>Lot.Shape</th>\n",
       "      <th>Land.Contour</th>\n",
       "      <th>Lot.Config</th>\n",
       "      <th>Land.Slope</th>\n",
       "      <th>Neighborhood</th>\n",
       "      <th>Bldg.Type</th>\n",
       "      <th>...</th>\n",
       "      <th>Sale.Type</th>\n",
       "      <th>Sale.Condition</th>\n",
       "      <th>SalePrice</th>\n",
       "      <th>Condition</th>\n",
       "      <th>HasShed</th>\n",
       "      <th>HasAlley</th>\n",
       "      <th>Exterior</th>\n",
       "      <th>Garage.Age</th>\n",
       "      <th>Remod.Age</th>\n",
       "      <th>House.Age</th>\n",
       "    </tr>\n",
       "  </thead>\n",
       "  <tbody>\n",
       "    <tr>\n",
       "      <th>0</th>\n",
       "      <td>20</td>\n",
       "      <td>RL</td>\n",
       "      <td>141.0</td>\n",
       "      <td>31770.0</td>\n",
       "      <td>1</td>\n",
       "      <td>Lvl</td>\n",
       "      <td>Corner</td>\n",
       "      <td>0</td>\n",
       "      <td>NAmes</td>\n",
       "      <td>1Fam</td>\n",
       "      <td>...</td>\n",
       "      <td>GroupedWD</td>\n",
       "      <td>Normal</td>\n",
       "      <td>5.332438</td>\n",
       "      <td>Norm</td>\n",
       "      <td>False</td>\n",
       "      <td>False</td>\n",
       "      <td>BrkFace</td>\n",
       "      <td>50.0</td>\n",
       "      <td>50.0</td>\n",
       "      <td>50.0</td>\n",
       "    </tr>\n",
       "    <tr>\n",
       "      <th>1</th>\n",
       "      <td>20</td>\n",
       "      <td>RH</td>\n",
       "      <td>80.0</td>\n",
       "      <td>11622.0</td>\n",
       "      <td>0</td>\n",
       "      <td>Lvl</td>\n",
       "      <td>Inside</td>\n",
       "      <td>0</td>\n",
       "      <td>NAmes</td>\n",
       "      <td>1Fam</td>\n",
       "      <td>...</td>\n",
       "      <td>GroupedWD</td>\n",
       "      <td>Normal</td>\n",
       "      <td>5.021189</td>\n",
       "      <td>Roads</td>\n",
       "      <td>False</td>\n",
       "      <td>False</td>\n",
       "      <td>VinylSd</td>\n",
       "      <td>49.0</td>\n",
       "      <td>49.0</td>\n",
       "      <td>49.0</td>\n",
       "    </tr>\n",
       "    <tr>\n",
       "      <th>2</th>\n",
       "      <td>20</td>\n",
       "      <td>RL</td>\n",
       "      <td>81.0</td>\n",
       "      <td>14267.0</td>\n",
       "      <td>1</td>\n",
       "      <td>Lvl</td>\n",
       "      <td>Corner</td>\n",
       "      <td>0</td>\n",
       "      <td>NAmes</td>\n",
       "      <td>1Fam</td>\n",
       "      <td>...</td>\n",
       "      <td>GroupedWD</td>\n",
       "      <td>Normal</td>\n",
       "      <td>5.235528</td>\n",
       "      <td>Norm</td>\n",
       "      <td>False</td>\n",
       "      <td>False</td>\n",
       "      <td>Wd Sdng</td>\n",
       "      <td>52.0</td>\n",
       "      <td>52.0</td>\n",
       "      <td>52.0</td>\n",
       "    </tr>\n",
       "    <tr>\n",
       "      <th>3</th>\n",
       "      <td>20</td>\n",
       "      <td>RL</td>\n",
       "      <td>93.0</td>\n",
       "      <td>11160.0</td>\n",
       "      <td>0</td>\n",
       "      <td>Lvl</td>\n",
       "      <td>Corner</td>\n",
       "      <td>0</td>\n",
       "      <td>NAmes</td>\n",
       "      <td>1Fam</td>\n",
       "      <td>...</td>\n",
       "      <td>GroupedWD</td>\n",
       "      <td>Normal</td>\n",
       "      <td>5.387390</td>\n",
       "      <td>Norm</td>\n",
       "      <td>False</td>\n",
       "      <td>False</td>\n",
       "      <td>BrkFace</td>\n",
       "      <td>42.0</td>\n",
       "      <td>42.0</td>\n",
       "      <td>42.0</td>\n",
       "    </tr>\n",
       "    <tr>\n",
       "      <th>4</th>\n",
       "      <td>60</td>\n",
       "      <td>RL</td>\n",
       "      <td>74.0</td>\n",
       "      <td>13830.0</td>\n",
       "      <td>1</td>\n",
       "      <td>Lvl</td>\n",
       "      <td>Inside</td>\n",
       "      <td>0</td>\n",
       "      <td>Gilbert</td>\n",
       "      <td>1Fam</td>\n",
       "      <td>...</td>\n",
       "      <td>GroupedWD</td>\n",
       "      <td>Normal</td>\n",
       "      <td>5.278525</td>\n",
       "      <td>Norm</td>\n",
       "      <td>False</td>\n",
       "      <td>False</td>\n",
       "      <td>VinylSd</td>\n",
       "      <td>13.0</td>\n",
       "      <td>12.0</td>\n",
       "      <td>13.0</td>\n",
       "    </tr>\n",
       "  </tbody>\n",
       "</table>\n",
       "<p>5 rows × 70 columns</p>\n",
       "</div>"
      ],
      "text/plain": [
       "  MS.SubClass MS.Zoning  Lot.Frontage  Lot.Area  Lot.Shape Land.Contour  \\\n",
       "0          20        RL         141.0   31770.0          1          Lvl   \n",
       "1          20        RH          80.0   11622.0          0          Lvl   \n",
       "2          20        RL          81.0   14267.0          1          Lvl   \n",
       "3          20        RL          93.0   11160.0          0          Lvl   \n",
       "4          60        RL          74.0   13830.0          1          Lvl   \n",
       "\n",
       "  Lot.Config  Land.Slope Neighborhood Bldg.Type  ...  Sale.Type  \\\n",
       "0     Corner           0        NAmes      1Fam  ...  GroupedWD   \n",
       "1     Inside           0        NAmes      1Fam  ...  GroupedWD   \n",
       "2     Corner           0        NAmes      1Fam  ...  GroupedWD   \n",
       "3     Corner           0        NAmes      1Fam  ...  GroupedWD   \n",
       "4     Inside           0      Gilbert      1Fam  ...  GroupedWD   \n",
       "\n",
       "   Sale.Condition  SalePrice Condition HasShed  HasAlley  Exterior  \\\n",
       "0          Normal   5.332438      Norm   False     False   BrkFace   \n",
       "1          Normal   5.021189     Roads   False     False   VinylSd   \n",
       "2          Normal   5.235528      Norm   False     False   Wd Sdng   \n",
       "3          Normal   5.387390      Norm   False     False   BrkFace   \n",
       "4          Normal   5.278525      Norm   False     False   VinylSd   \n",
       "\n",
       "   Garage.Age Remod.Age House.Age  \n",
       "0        50.0      50.0      50.0  \n",
       "1        49.0      49.0      49.0  \n",
       "2        52.0      52.0      52.0  \n",
       "3        42.0      42.0      42.0  \n",
       "4        13.0      12.0      13.0  \n",
       "\n",
       "[5 rows x 70 columns]"
      ]
     },
     "execution_count": 13,
     "metadata": {},
     "output_type": "execute_result"
    }
   ],
   "source": [
    "model_data.head()"
   ]
  },
  {
   "cell_type": "code",
   "execution_count": 14,
   "metadata": {},
   "outputs": [
    {
     "data": {
      "text/html": [
       "<div>\n",
       "<style scoped>\n",
       "    .dataframe tbody tr th:only-of-type {\n",
       "        vertical-align: middle;\n",
       "    }\n",
       "\n",
       "    .dataframe tbody tr th {\n",
       "        vertical-align: top;\n",
       "    }\n",
       "\n",
       "    .dataframe thead th {\n",
       "        text-align: right;\n",
       "    }\n",
       "</style>\n",
       "<table border=\"1\" class=\"dataframe\">\n",
       "  <thead>\n",
       "    <tr style=\"text-align: right;\">\n",
       "      <th></th>\n",
       "      <th>0</th>\n",
       "      <th>1</th>\n",
       "      <th>2</th>\n",
       "      <th>3</th>\n",
       "      <th>4</th>\n",
       "    </tr>\n",
       "  </thead>\n",
       "  <tbody>\n",
       "    <tr>\n",
       "      <th>AsbShng</th>\n",
       "      <td>0</td>\n",
       "      <td>0</td>\n",
       "      <td>0</td>\n",
       "      <td>0</td>\n",
       "      <td>0</td>\n",
       "    </tr>\n",
       "    <tr>\n",
       "      <th>BrkFace</th>\n",
       "      <td>1</td>\n",
       "      <td>0</td>\n",
       "      <td>0</td>\n",
       "      <td>1</td>\n",
       "      <td>0</td>\n",
       "    </tr>\n",
       "    <tr>\n",
       "      <th>CemntBd</th>\n",
       "      <td>0</td>\n",
       "      <td>0</td>\n",
       "      <td>0</td>\n",
       "      <td>0</td>\n",
       "      <td>0</td>\n",
       "    </tr>\n",
       "    <tr>\n",
       "      <th>HdBoard</th>\n",
       "      <td>0</td>\n",
       "      <td>0</td>\n",
       "      <td>0</td>\n",
       "      <td>0</td>\n",
       "      <td>0</td>\n",
       "    </tr>\n",
       "    <tr>\n",
       "      <th>MetalSd</th>\n",
       "      <td>0</td>\n",
       "      <td>0</td>\n",
       "      <td>0</td>\n",
       "      <td>0</td>\n",
       "      <td>0</td>\n",
       "    </tr>\n",
       "    <tr>\n",
       "      <th>Plywood</th>\n",
       "      <td>0</td>\n",
       "      <td>0</td>\n",
       "      <td>0</td>\n",
       "      <td>0</td>\n",
       "      <td>0</td>\n",
       "    </tr>\n",
       "    <tr>\n",
       "      <th>Stucco</th>\n",
       "      <td>0</td>\n",
       "      <td>0</td>\n",
       "      <td>0</td>\n",
       "      <td>0</td>\n",
       "      <td>0</td>\n",
       "    </tr>\n",
       "    <tr>\n",
       "      <th>VinylSd</th>\n",
       "      <td>0</td>\n",
       "      <td>1</td>\n",
       "      <td>0</td>\n",
       "      <td>0</td>\n",
       "      <td>1</td>\n",
       "    </tr>\n",
       "    <tr>\n",
       "      <th>Wd Sdng</th>\n",
       "      <td>0</td>\n",
       "      <td>0</td>\n",
       "      <td>1</td>\n",
       "      <td>0</td>\n",
       "      <td>0</td>\n",
       "    </tr>\n",
       "    <tr>\n",
       "      <th>WdShing</th>\n",
       "      <td>0</td>\n",
       "      <td>0</td>\n",
       "      <td>0</td>\n",
       "      <td>0</td>\n",
       "      <td>0</td>\n",
       "    </tr>\n",
       "    <tr>\n",
       "      <th>Other</th>\n",
       "      <td>0</td>\n",
       "      <td>0</td>\n",
       "      <td>0</td>\n",
       "      <td>0</td>\n",
       "      <td>0</td>\n",
       "    </tr>\n",
       "    <tr>\n",
       "      <th>Exterior</th>\n",
       "      <td>BrkFace</td>\n",
       "      <td>VinylSd</td>\n",
       "      <td>Wd Sdng</td>\n",
       "      <td>BrkFace</td>\n",
       "      <td>VinylSd</td>\n",
       "    </tr>\n",
       "  </tbody>\n",
       "</table>\n",
       "</div>"
      ],
      "text/plain": [
       "                0        1        2        3        4\n",
       "AsbShng         0        0        0        0        0\n",
       "BrkFace         1        0        0        1        0\n",
       "CemntBd         0        0        0        0        0\n",
       "HdBoard         0        0        0        0        0\n",
       "MetalSd         0        0        0        0        0\n",
       "Plywood         0        0        0        0        0\n",
       "Stucco          0        0        0        0        0\n",
       "VinylSd         0        1        0        0        1\n",
       "Wd Sdng         0        0        1        0        0\n",
       "WdShing         0        0        0        0        0\n",
       "Other           0        0        0        0        0\n",
       "Exterior  BrkFace  VinylSd  Wd Sdng  BrkFace  VinylSd"
      ]
     },
     "execution_count": 14,
     "metadata": {},
     "output_type": "execute_result"
    }
   ],
   "source": [
    "original_data = model_data['Exterior']\n",
    "encoded_data = pd.get_dummies(original_data)\n",
    "\n",
    "aux_dataframe = encoded_data\n",
    "aux_dataframe['Exterior'] = original_data.copy()\n",
    "\n",
    "aux_dataframe.head().transpose()"
   ]
  },
  {
   "cell_type": "code",
   "execution_count": 15,
   "metadata": {},
   "outputs": [
    {
     "data": {
      "text/html": [
       "<div>\n",
       "<style scoped>\n",
       "    .dataframe tbody tr th:only-of-type {\n",
       "        vertical-align: middle;\n",
       "    }\n",
       "\n",
       "    .dataframe tbody tr th {\n",
       "        vertical-align: top;\n",
       "    }\n",
       "\n",
       "    .dataframe thead th {\n",
       "        text-align: right;\n",
       "    }\n",
       "</style>\n",
       "<table border=\"1\" class=\"dataframe\">\n",
       "  <thead>\n",
       "    <tr style=\"text-align: right;\">\n",
       "      <th></th>\n",
       "      <th>0</th>\n",
       "      <th>1</th>\n",
       "      <th>2</th>\n",
       "      <th>3</th>\n",
       "      <th>4</th>\n",
       "    </tr>\n",
       "  </thead>\n",
       "  <tbody>\n",
       "    <tr>\n",
       "      <th>BrkFace</th>\n",
       "      <td>1</td>\n",
       "      <td>0</td>\n",
       "      <td>0</td>\n",
       "      <td>1</td>\n",
       "      <td>0</td>\n",
       "    </tr>\n",
       "    <tr>\n",
       "      <th>CemntBd</th>\n",
       "      <td>0</td>\n",
       "      <td>0</td>\n",
       "      <td>0</td>\n",
       "      <td>0</td>\n",
       "      <td>0</td>\n",
       "    </tr>\n",
       "    <tr>\n",
       "      <th>HdBoard</th>\n",
       "      <td>0</td>\n",
       "      <td>0</td>\n",
       "      <td>0</td>\n",
       "      <td>0</td>\n",
       "      <td>0</td>\n",
       "    </tr>\n",
       "    <tr>\n",
       "      <th>MetalSd</th>\n",
       "      <td>0</td>\n",
       "      <td>0</td>\n",
       "      <td>0</td>\n",
       "      <td>0</td>\n",
       "      <td>0</td>\n",
       "    </tr>\n",
       "    <tr>\n",
       "      <th>Plywood</th>\n",
       "      <td>0</td>\n",
       "      <td>0</td>\n",
       "      <td>0</td>\n",
       "      <td>0</td>\n",
       "      <td>0</td>\n",
       "    </tr>\n",
       "    <tr>\n",
       "      <th>Stucco</th>\n",
       "      <td>0</td>\n",
       "      <td>0</td>\n",
       "      <td>0</td>\n",
       "      <td>0</td>\n",
       "      <td>0</td>\n",
       "    </tr>\n",
       "    <tr>\n",
       "      <th>VinylSd</th>\n",
       "      <td>0</td>\n",
       "      <td>1</td>\n",
       "      <td>0</td>\n",
       "      <td>0</td>\n",
       "      <td>1</td>\n",
       "    </tr>\n",
       "    <tr>\n",
       "      <th>Wd Sdng</th>\n",
       "      <td>0</td>\n",
       "      <td>0</td>\n",
       "      <td>1</td>\n",
       "      <td>0</td>\n",
       "      <td>0</td>\n",
       "    </tr>\n",
       "    <tr>\n",
       "      <th>WdShing</th>\n",
       "      <td>0</td>\n",
       "      <td>0</td>\n",
       "      <td>0</td>\n",
       "      <td>0</td>\n",
       "      <td>0</td>\n",
       "    </tr>\n",
       "    <tr>\n",
       "      <th>Other</th>\n",
       "      <td>0</td>\n",
       "      <td>0</td>\n",
       "      <td>0</td>\n",
       "      <td>0</td>\n",
       "      <td>0</td>\n",
       "    </tr>\n",
       "    <tr>\n",
       "      <th>Exterior</th>\n",
       "      <td>BrkFace</td>\n",
       "      <td>VinylSd</td>\n",
       "      <td>Wd Sdng</td>\n",
       "      <td>BrkFace</td>\n",
       "      <td>VinylSd</td>\n",
       "    </tr>\n",
       "  </tbody>\n",
       "</table>\n",
       "</div>"
      ],
      "text/plain": [
       "                0        1        2        3        4\n",
       "BrkFace         1        0        0        1        0\n",
       "CemntBd         0        0        0        0        0\n",
       "HdBoard         0        0        0        0        0\n",
       "MetalSd         0        0        0        0        0\n",
       "Plywood         0        0        0        0        0\n",
       "Stucco          0        0        0        0        0\n",
       "VinylSd         0        1        0        0        1\n",
       "Wd Sdng         0        0        1        0        0\n",
       "WdShing         0        0        0        0        0\n",
       "Other           0        0        0        0        0\n",
       "Exterior  BrkFace  VinylSd  Wd Sdng  BrkFace  VinylSd"
      ]
     },
     "execution_count": 15,
     "metadata": {},
     "output_type": "execute_result"
    }
   ],
   "source": [
    "original_data = model_data['Exterior']\n",
    "encoded_data = pd.get_dummies(original_data, drop_first=True)\n",
    "\n",
    "aux_dataframe = encoded_data\n",
    "aux_dataframe['Exterior'] = original_data.copy()\n",
    "\n",
    "aux_dataframe.head().transpose()"
   ]
  },
  {
   "cell_type": "code",
   "execution_count": 16,
   "metadata": {},
   "outputs": [],
   "source": [
    "model_test = model_data.copy()\n",
    "model_data = pd.get_dummies(model_data, drop_first=True)"
   ]
  },
  {
   "cell_type": "code",
   "execution_count": 17,
   "metadata": {},
   "outputs": [
    {
     "name": "stdout",
     "output_type": "stream",
     "text": [
      "From column \"MS.SubClass\" we made \"MS.SubClass_30\", \"MS.SubClass_50\", \"MS.SubClass_60\", \"MS.SubClass_70\", \"MS.SubClass_80\", \"MS.SubClass_85\", \"MS.SubClass_90\", \"MS.SubClass_120\", \"MS.SubClass_160\", \"MS.SubClass_190\", \"MS.SubClass_Other\"\n",
      "\n",
      "From column \"MS.Zoning\" we made \"MS.Zoning_RH\", \"MS.Zoning_RL\", \"MS.Zoning_RM\"\n",
      "\n",
      "From column \"Land.Contour\" we made \"Land.Contour_HLS\", \"Land.Contour_Low\", \"Land.Contour_Lvl\"\n",
      "\n",
      "From column \"Lot.Config\" we made \"Lot.Config_CulDSac\", \"Lot.Config_FR2\", \"Lot.Config_FR3\", \"Lot.Config_Inside\"\n",
      "\n",
      "From column \"Neighborhood\" we made \"Neighborhood_BrDale\", \"Neighborhood_BrkSide\", \"Neighborhood_ClearCr\", \"Neighborhood_CollgCr\", \"Neighborhood_Crawfor\", \"Neighborhood_Edwards\", \"Neighborhood_Gilbert\", \"Neighborhood_IDOTRR\", \"Neighborhood_MeadowV\", \"Neighborhood_Mitchel\", \"Neighborhood_NAmes\", \"Neighborhood_NPkVill\", \"Neighborhood_NWAmes\", \"Neighborhood_NoRidge\", \"Neighborhood_NridgHt\", \"Neighborhood_OldTown\", \"Neighborhood_SWISU\", \"Neighborhood_Sawyer\", \"Neighborhood_SawyerW\", \"Neighborhood_Somerst\", \"Neighborhood_StoneBr\", \"Neighborhood_Timber\", \"Neighborhood_Veenker\"\n",
      "\n",
      "From column \"Bldg.Type\" we made \"Bldg.Type_2fmCon\", \"Bldg.Type_Duplex\", \"Bldg.Type_Twnhs\", \"Bldg.Type_TwnhsE\"\n",
      "\n",
      "From column \"House.Style\" we made \"House.Style_1.5Unf\", \"House.Style_1Story\", \"House.Style_2.5Fin\", \"House.Style_2.5Unf\", \"House.Style_2Story\", \"House.Style_SFoyer\", \"House.Style_SLvl\"\n",
      "\n",
      "From column \"Roof.Style\" we made \"Roof.Style_Hip\", \"Roof.Style_Other\"\n",
      "\n",
      "From column \"Mas.Vnr.Type\" we made \"Mas.Vnr.Type_None\", \"Mas.Vnr.Type_Stone\", \"Mas.Vnr.Type_Other\"\n",
      "\n",
      "From column \"Foundation\" we made \"Foundation_CBlock\", \"Foundation_PConc\", \"Foundation_Other\"\n",
      "\n",
      "From column \"Bsmt.Qual\" we made \"Bsmt.Qual_Gd\", \"Bsmt.Qual_TA\", \"Bsmt.Qual_Fa\", \"Bsmt.Qual_NA\"\n",
      "\n",
      "From column \"Bsmt.Cond\" we made \"Bsmt.Cond_TA\", \"Bsmt.Cond_Fa\", \"Bsmt.Cond_NA\"\n",
      "\n",
      "From column \"Bsmt.Exposure\" we made \"Bsmt.Exposure_Av\", \"Bsmt.Exposure_Mn\", \"Bsmt.Exposure_No\", \"Bsmt.Exposure_NA\"\n",
      "\n",
      "From column \"BsmtFin.Type.1\" we made \"BsmtFin.Type.1_ALQ\", \"BsmtFin.Type.1_BLQ\", \"BsmtFin.Type.1_Rec\", \"BsmtFin.Type.1_LwQ\", \"BsmtFin.Type.1_Unf\", \"BsmtFin.Type.1_NA\"\n",
      "\n",
      "From column \"BsmtFin.Type.2\" we made \"BsmtFin.Type.2_ALQ\", \"BsmtFin.Type.2_BLQ\", \"BsmtFin.Type.2_Rec\", \"BsmtFin.Type.2_LwQ\", \"BsmtFin.Type.2_Unf\", \"BsmtFin.Type.2_NA\"\n",
      "\n",
      "From column \"Central.Air\" we made \"Central.Air_Y\"\n",
      "\n",
      "From column \"Garage.Type\" we made \"Garage.Type_Attchd\", \"Garage.Type_Basment\", \"Garage.Type_BuiltIn\", \"Garage.Type_CarPort\", \"Garage.Type_Detchd\", \"Garage.Type_NoGarage\"\n",
      "\n",
      "From column \"Garage.Finish\" we made \"Garage.Finish_RFn\", \"Garage.Finish_Unf\", \"Garage.Finish_NoGarage\"\n",
      "\n",
      "From column \"Sale.Type\" we made \"Sale.Type_GroupedWD\", \"Sale.Type_Other\"\n",
      "\n",
      "From column \"Sale.Condition\" we made \"Sale.Condition_AdjLand\", \"Sale.Condition_Alloca\", \"Sale.Condition_Family\", \"Sale.Condition_Normal\", \"Sale.Condition_Partial\"\n",
      "\n",
      "From column \"Condition\" we made \"Condition_Railroad\", \"Condition_Roads\", \"Condition_Positive\", \"Condition_RoadsAndRailroad\"\n",
      "\n",
      "From column \"Exterior\" we made \"Exterior_BrkFace\", \"Exterior_CemntBd\", \"Exterior_HdBoard\", \"Exterior_MetalSd\", \"Exterior_Plywood\", \"Exterior_Stucco\", \"Exterior_VinylSd\", \"Exterior_Wd Sdng\", \"Exterior_WdShing\", \"Exterior_Other\"\n",
      "\n"
     ]
    }
   ],
   "source": [
    "for cat in categorical_columns:\n",
    "    dummies = []\n",
    "    for col in model_data.columns:\n",
    "        if col.startswith(cat + \"_\"):\n",
    "            dummies.append(f'\"{col}\"')\n",
    "    dummies_str = ', '.join(dummies)\n",
    "    print(f'From column \"{cat}\" we made {dummies_str}\\n')"
   ]
  },
  {
   "cell_type": "code",
   "execution_count": 18,
   "metadata": {},
   "outputs": [],
   "source": [
    "X = model_data.drop(columns=['SalePrice']).copy()\n",
    "y = model_data['SalePrice'].copy()"
   ]
  },
  {
   "cell_type": "code",
   "execution_count": 19,
   "metadata": {},
   "outputs": [],
   "source": [
    "from sklearn.model_selection import train_test_split\n",
    "\n",
    "RANDOM_SEED = 42\n",
    "\n",
    "X_train, X_test, y_train, y_test = train_test_split(X, y, test_size=0.2, random_state=42)\n"
   ]
  },
  {
   "cell_type": "code",
   "execution_count": 20,
   "metadata": {},
   "outputs": [
    {
     "name": "stdout",
     "output_type": "stream",
     "text": [
      "<class 'pandas.core.frame.DataFrame'>\n",
      "Int64Index: 2301 entries, 1446 to 873\n",
      "Columns: 164 entries, Lot.Frontage to Exterior_Other\n",
      "dtypes: bool(2), float64(33), int64(12), uint8(117)\n",
      "memory usage: 1.1 MB\n"
     ]
    }
   ],
   "source": [
    "X_train.info()"
   ]
  },
  {
   "cell_type": "code",
   "execution_count": 21,
   "metadata": {},
   "outputs": [
    {
     "data": {
      "text/plain": [
       "Lot.Frontage        0\n",
       "Lot.Area            0\n",
       "Lot.Shape           0\n",
       "Land.Slope          0\n",
       "Overall.Qual        0\n",
       "                   ..\n",
       "Exterior_Stucco     0\n",
       "Exterior_VinylSd    0\n",
       "Exterior_Wd Sdng    0\n",
       "Exterior_WdShing    0\n",
       "Exterior_Other      0\n",
       "Length: 164, dtype: int64"
      ]
     },
     "execution_count": 21,
     "metadata": {},
     "output_type": "execute_result"
    }
   ],
   "source": [
    "X_train.isna().sum()"
   ]
  },
  {
   "cell_type": "code",
   "execution_count": 22,
   "metadata": {},
   "outputs": [
    {
     "name": "stdout",
     "output_type": "stream",
     "text": [
      "Average error is 14.37%\n"
     ]
    }
   ],
   "source": [
    "from sklearn.linear_model import LinearRegression\n",
    "from sklearn.metrics import mean_squared_error\n",
    "\n",
    "model = LinearRegression()\n",
    "\n",
    "model.fit(X_train, y_train)\n",
    "\n",
    "ypred = model.predict(X_test)\n",
    "\n",
    "RMSE = np.sqrt(mean_squared_error(y_test, ypred))\n",
    "\n",
    "error_percent = 100 * (10**RMSE - 1)\n",
    "print(f'Average error is {error_percent:.2f}%')"
   ]
  },
  {
   "cell_type": "code",
   "execution_count": 23,
   "metadata": {},
   "outputs": [],
   "source": [
    "from sklearn.linear_model import Ridge, Lasso, ElasticNet\n",
    "from sklearn.model_selection import GridSearchCV\n",
    "import numpy as np\n",
    "import warnings\n",
    "warnings.filterwarnings('ignore')\n",
    "\n",
    "RANDOM_SEED = 42  # Definindo uma semente aleatória\n",
    "\n",
    "def grid_search_regression(model, param_grid, X, y):\n",
    "    grid_search = GridSearchCV(model, param_grid, cv=5, scoring='neg_mean_squared_error', return_train_score=True)\n",
    "    grid_search.fit(X, y)\n",
    "    best_params = grid_search.best_params_\n",
    "    best_score = np.sqrt(-grid_search.best_score_)\n",
    "    return grid_search.best_estimator_, best_params, best_score\n",
    "\n",
    "\n",
    "# Alphas para serem testados\n",
    "alphas = np.logspace(-6, 6, 13)"
   ]
  },
  {
   "cell_type": "markdown",
   "metadata": {},
   "source": [
    "### `Lasso`."
   ]
  },
  {
   "cell_type": "code",
   "execution_count": 24,
   "metadata": {},
   "outputs": [
    {
     "name": "stdout",
     "output_type": "stream",
     "text": [
      "Best parameters for Lasso: {'alpha': 5e-05}, Best RMSE score: 0.0557674173722186\n"
     ]
    }
   ],
   "source": [
    "param_grid_lasso = {'alpha': alphas}\n",
    "model_lasso, best_lasso_params, best_lasso_score = grid_search_regression(Lasso(random_state=RANDOM_SEED), param_grid_lasso, X_train, y_train)\n",
    "\n",
    "alphas_fine = np.linspace(best_lasso_params['alpha']*0.5, best_lasso_params['alpha']*1.5, 20)\n",
    "param_grid_lasso_fine = {'alpha': alphas_fine}\n",
    "model_lasso, best_lasso_params_fine, best_lasso_score_fine = grid_search_regression(Lasso(random_state=RANDOM_SEED), param_grid_lasso_fine, X_train, y_train)\n",
    "\n",
    "print(f\"Best parameters for Lasso: {best_lasso_params_fine}, Best RMSE score: {best_lasso_score_fine}\")"
   ]
  },
  {
   "cell_type": "code",
   "execution_count": 25,
   "metadata": {},
   "outputs": [
    {
     "name": "stdout",
     "output_type": "stream",
     "text": [
      "Average error is 13.73%\n",
      "With fine tuning the average error  is 13.70%\n"
     ]
    }
   ],
   "source": [
    "error_percent = 100 * (10**best_lasso_score - 1)\n",
    "print(f'Average error is {error_percent:.2f}%')\n",
    "error_percent = 100 * (10**best_lasso_score_fine - 1)\n",
    "print(f'With fine tuning the average error  is {error_percent:.2f}%')"
   ]
  },
  {
   "cell_type": "markdown",
   "metadata": {},
   "source": [
    "### `Ridge`."
   ]
  },
  {
   "cell_type": "code",
   "execution_count": 26,
   "metadata": {},
   "outputs": [
    {
     "name": "stdout",
     "output_type": "stream",
     "text": [
      "alphas: [1.e-06 1.e-05 1.e-04 1.e-03 1.e-02 1.e-01 1.e+00 1.e+01 1.e+02 1.e+03\n",
      " 1.e+04 1.e+05 1.e+06]\n",
      "Best parameters for Ridge: {'alpha': 1.5}, Best RMSE score: 0.055772726835469785\n"
     ]
    }
   ],
   "source": [
    "print(f'alphas: {alphas}')\n",
    "param_grid_ridge = {'alpha': alphas}\n",
    "model_ridge, best_ridge_params, best_ridge_score = grid_search_regression(Ridge(random_state=RANDOM_SEED), param_grid_ridge, X_train, y_train)\n",
    "\n",
    "alphas_fine = np.linspace(best_ridge_params['alpha']*0.5, best_ridge_params['alpha']*1.5, 20)\n",
    "param_grid_ridge_fine = {'alpha': alphas_fine}\n",
    "model_ridge, best_ridge_params_fine, best_ridge_score_fine = grid_search_regression(Ridge(random_state=RANDOM_SEED), param_grid_ridge_fine, X_train, y_train)\n",
    "\n",
    "print(f\"Best parameters for Ridge: {best_ridge_params_fine}, Best RMSE score: {best_ridge_score_fine}\")"
   ]
  },
  {
   "cell_type": "code",
   "execution_count": 27,
   "metadata": {},
   "outputs": [
    {
     "name": "stdout",
     "output_type": "stream",
     "text": [
      "Average error is 13.71%\n",
      "With fine tuning the average error  is 13.70%\n"
     ]
    }
   ],
   "source": [
    "error_percent = 100 * (10**best_ridge_score - 1)\n",
    "print(f'Average error is {error_percent:.2f}%')\n",
    "error_percent = 100 * (10**best_ridge_score_fine - 1)\n",
    "print(f'With fine tuning the average error  is {error_percent:.2f}%')"
   ]
  },
  {
   "cell_type": "markdown",
   "metadata": {},
   "source": [
    "### `ElasticNet`."
   ]
  },
  {
   "cell_type": "code",
   "execution_count": 28,
   "metadata": {},
   "outputs": [
    {
     "name": "stdout",
     "output_type": "stream",
     "text": [
      "Best parameters for Elastic Net: {'alpha': 0.00015000000000000001, 'l1_ratio': 0.3}, Best RMSE score: 0.0557610010406959\n"
     ]
    }
   ],
   "source": [
    "param_grid_elastic_net = {'alpha': alphas, 'l1_ratio': [0.1, 0.3, 0.5, 0.7, 0.9]}\n",
    "model_elasticnet, best_elastic_net_params, best_elastic_net_score = grid_search_regression(ElasticNet(random_state=RANDOM_SEED), param_grid_elastic_net, X_train, y_train)\n",
    "\n",
    "alphas_fine = np.linspace(best_elastic_net_params['alpha']*0.5, best_elastic_net_params['alpha']*1.5, 20)\n",
    "param_grid_elastic_net_fine = {'alpha': alphas_fine, 'l1_ratio': [0.1, 0.3, 0.5, 0.7, 0.9]}\n",
    "model_elasticnet, best_elastic_net_params_fine, best_elastic_net_score_fine = grid_search_regression(ElasticNet(random_state=RANDOM_SEED), param_grid_elastic_net_fine, X_train, y_train)\n",
    "\n",
    "print(f\"Best parameters for Elastic Net: {best_elastic_net_params_fine}, Best RMSE score: {best_elastic_net_score_fine}\")"
   ]
  },
  {
   "cell_type": "code",
   "execution_count": 29,
   "metadata": {},
   "outputs": [
    {
     "name": "stdout",
     "output_type": "stream",
     "text": [
      "Average error is 13.70%\n",
      "With fine tuning the average error  is 13.70%\n"
     ]
    }
   ],
   "source": [
    "error_percent = 100 * (10**best_elastic_net_score - 1)\n",
    "print(f'Average error is {error_percent:.2f}%')\n",
    "error_percent = 100 * (10**best_elastic_net_score_fine - 1)\n",
    "print(f'With fine tuning the average error  is {error_percent:.2f}%')"
   ]
  },
  {
   "cell_type": "markdown",
   "metadata": {},
   "source": [
    "Depois de otimizarmos os parâmetros e realizar a validação cruzada, resolvemos avaliar os modelos usando o conjunto completo de teste para determinar a precisão de cada um. Observamos que os modelos apresentam desempenhos semelhantes, com o modelo ElasticNet mostrando-se ligeiramente superior. No entanto, essa superioridade é mínima, levantando a questão se essa diferença é realmente significativa."
   ]
  },
  {
   "cell_type": "code",
   "execution_count": 31,
   "metadata": {},
   "outputs": [
    {
     "name": "stdout",
     "output_type": "stream",
     "text": [
      "A diferença entre os modelos Ridge e Lasso não é significativa, pvalue: 58.40%\n",
      "A diferença entre os modelos Ridge e Elastic Net não é significativa, pvalue: 61.48%\n",
      "A diferença entre os modelos Lasso e Elastic Net não é significativa, pvalue: 37.87%\n"
     ]
    }
   ],
   "source": [
    "# make a ttest to see if the difference between the two models is significant\n",
    "from scipy.stats import ttest_rel\n",
    "\n",
    "ypred_ridge = model_ridge.predict(X_test)\n",
    "ypred_lasso = model_lasso.predict(X_test)\n",
    "ypred_elasticnet = model_elasticnet.predict(X_test)\n",
    "\n",
    "pvalue_rl = ttest_rel(ypred_ridge, ypred_lasso).pvalue\n",
    "pvalue_re = ttest_rel(ypred_ridge, ypred_elasticnet).pvalue\n",
    "pvalue_le = ttest_rel(ypred_lasso, ypred_elasticnet).pvalue\n",
    "\n",
    "if pvalue_rl < 0.05:\n",
    "    print(f'A diferença entre os modelos Ridge e Lasso é significativa, pvalue: {pvalue_rl*100:.2f}%')\n",
    "else:\n",
    "    print(f'A diferença entre os modelos Ridge e Lasso não é significativa, pvalue: {pvalue_rl*100:.2f}%')\n",
    "\n",
    "if pvalue_re < 0.05:\n",
    "    print(f'A diferença entre os modelos Ridge e Elastic Net é significativa, pvalue: {pvalue_re*100:.2f}%')\n",
    "else:\n",
    "    print(f'A diferença entre os modelos Ridge e Elastic Net não é significativa, pvalue: {pvalue_re*100:.2f}%')\n",
    "\n",
    "if pvalue_le < 0.05:\n",
    "    print(f'A diferença entre os modelos Lasso e Elastic Net é significativa, pvalue: {pvalue_le*100:.2f}%')\n",
    "else:\n",
    "    print(f'A diferença entre os modelos Lasso e Elastic Net não é significativa, pvalue: {pvalue_le*100:.2f}%')\n"
   ]
  },
  {
   "cell_type": "markdown",
   "metadata": {},
   "source": [
    "Para determinar a significância estatística dessa discrepância, aplicamos o teste de Wilcoxon, um método não paramétrico que avalia a diferença significativa entre dois conjuntos de dados."
   ]
  },
  {
   "cell_type": "markdown",
   "metadata": {},
   "source": [
    "### Resumo da Avaliação de Modelos"
   ]
  },
  {
   "cell_type": "markdown",
   "metadata": {},
   "source": [
    "Investigamos três modelos de regressão regularizados: Ridge, Lasso e ElasticNet. Utilizamos uma busca em grade para otimizar seus hiperparâmetros e avaliamos a eficácia de cada um através do RMSE. O modelo ElasticNet teve um desempenho um pouco superior aos outros, mas a diferença não foi estatisticamente significativa, conforme confirmado pelos testes. Vale lembrar que esta análise se limitou a estes três modelos, deixando de lado outras abordagens de regressão. Embora o ElasticNet tenha se destacado levemente, a variação de desempenho entre os modelos não foi conclusiva. Também é relevante mencionar que a análise foi baseada em dados já pré-processados e fornecidos, sem alterações de nossa parte. Para uma avaliação mais abrangente, seria apropriado explorar outras técnicas de regressão, reanalisar os dados e considerar a engenharia de features."
   ]
  },
  {
   "cell_type": "markdown",
   "metadata": {},
   "source": [
    "### Focando um pouco mais no modelo `ElasticNet`."
   ]
  },
  {
   "cell_type": "code",
   "execution_count": 32,
   "metadata": {},
   "outputs": [
    {
     "name": "stdout",
     "output_type": "stream",
     "text": [
      "Melhor alpha: 0.0001\n",
      "Melhor l1_ratio: 0.5\n",
      "RMSE no conjunto de teste: 0.05870098942129564\n",
      "R^2 no conjunto de teste: 0.8832968592666874\n"
     ]
    }
   ],
   "source": [
    "from sklearn.linear_model import ElasticNetCV\n",
    "from sklearn.metrics import mean_squared_error, r2_score\n",
    "\n",
    "# Definindo os possíveis valores para os hiperparâmetros\n",
    "alphas = np.logspace(-6, 6, 13)\n",
    "l1_ratios = [0.1, 0.3, 0.5, 0.7, 0.9]\n",
    "\n",
    "# Inicializando e treinando o ElasticNet com validação cruzada\n",
    "elasticnet_cv = ElasticNetCV(alphas=alphas, l1_ratio=l1_ratios, cv=5)\n",
    "elasticnet_cv.fit(X_train, y_train)\n",
    "\n",
    "# Previsões no conjunto de teste\n",
    "y_pred = elasticnet_cv.predict(X_test)\n",
    "\n",
    "# Calculando métricas de avaliação\n",
    "rmse = np.sqrt(mean_squared_error(y_test, y_pred))\n",
    "r2 = r2_score(y_test, y_pred)\n",
    "\n",
    "print(f\"Melhor alpha: {elasticnet_cv.alpha_}\")\n",
    "print(f\"Melhor l1_ratio: {elasticnet_cv.l1_ratio_}\")\n",
    "print(f\"RMSE no conjunto de teste: {rmse}\")\n",
    "print(f\"R^2 no conjunto de teste: {r2}\")\n"
   ]
  },
  {
   "cell_type": "markdown",
   "metadata": {},
   "source": [
    "Interpretando os resultados:\n",
    "\n",
    "1. **Melhor alpha:** 0.0001\n",
    "   - O valor de `alpha` é um parâmetro de regularização que combina as penalidades de L1 e L2. Um valor pequeno para `alpha` sugere que o modelo está dando mais peso aos dados de treinamento em comparação com a regularização. Isso pode ser bom se você acreditar que o conjunto de dados de treinamento é representativo e não possui muito ruído.\n",
    "\n",
    "2. **Melhor l1_ratio:** 0.5\n",
    "   - O l1_ratio é a proporção de regularização L1 em relação à L2. Um l1_ratio de 0.5 indica que ambas as penalidades L1 e L2 estão sendo aplicadas igualmente.\n",
    "\n",
    "3. **RMSE no conjunto de teste:** 0.0587\n",
    "   - O RMSE é uma métrica que nos dá uma ideia da magnitude dos erros do modelo. Quanto menor o RMSE, melhor. Um RMSE de 0.0587 sugere que, em média, as previsões do modelo estão a 0.0587 unidades de distância do valor real.\n",
    "\n",
    "4. **R^2 no conjunto de teste:** 0.8833\n",
    "   - O coeficiente de determinação, `R^2`, indica a proporção da variância da variável dependente que é previsível a partir das variáveis independentes. `Um R^2` de 0.8833 indica que aproximadamente 88.33% da variância na variável alvo pode ser explicada pelo modelo. Isso é um valor muito bom, sugerindo que o modelo tem um bom ajuste aos dados.\n",
    "\n",
    "Em resumo, o modelo ElasticNet parece ter um desempenho muito bom no conjunto de teste. O alto valor de `R^2` e o baixo `RMSE` indicam que o modelo está fazendo previsões precisas e é capaz de explicar uma grande parte da variância nos dados.\n",
    "\n",
    "Agora, com esses resultados em mãos, podemos fazer conclusões adicionais, considerando o contexto do problema e a aplicação prática do modelo. Por exemplo, o que esse desempenho significa em termos de prever os preços dos imóveis? Como isso se traduz em valor para um possível negócio ou aplicação?"
   ]
  },
  {
   "cell_type": "markdown",
   "metadata": {},
   "source": [
    "### 1. **O que esse desempenho significa em termos de prever os preços dos imóveis?**\n",
    "\n",
    "- Um `R^2` de 0.8833 indica que o modelo é capaz de explicar aproximadamente 88.33% da variabilidade nos preços dos imóveis com base nas características fornecidas. Isso sugere que o modelo tem uma compreensão sólida das relações entre as características dos imóveis (como tamanho, localização, número de quartos, etc.) e seus preços.\n",
    "  \n",
    "- O `RMSE` de 0.0587, dependendo da escala dos preços, pode ser considerado baixo. Isso significa que, em média, as previsões do modelo estão próximas dos preços reais. No entanto, é importante lembrar que o RMSE deve ser interpretado no contexto da escala dos preços dos imóveis. Por exemplo, se os preços variam entre 0 e 1, um RMSE de 0.0587 é excelente. Mas se os preços variam, digamos, entre 0 e 100, então um RMSE de 0.0587 é excepcionalmente bom.\n",
    "\n",
    "### 2. **Como isso se traduz em valor para um possível negócio ou aplicação?**\n",
    "\n",
    "- **Precisão nas Avaliações:** Para corretores de imóveis, construtoras ou plataformas de venda de imóveis, ter um modelo preciso significa que eles podem avaliar propriedades de forma mais acurada. Isso pode ajudar na precificação de imóveis, evitando subvalorizar ou superestimar um imóvel.\n",
    "\n",
    "- **Ferramenta de Venda:** Para vendedores, ter um modelo que possa prever o preço com base em várias características pode ser uma ferramenta de venda valiosa. Os potenciais compradores podem ajustar características para ver como elas impactam o preço.\n",
    "\n",
    "- **Investimento em Imóveis:** Para investidores no mercado imobiliário, um modelo preciso pode ajudar a identificar oportunidades de investimento, permitindo-lhes estimar o valor de um imóvel em diferentes cenários.\n",
    "\n",
    "- **Decisões de Empréstimo:** Bancos e outras instituições financeiras podem usar o modelo para ajudar nas decisões de empréstimo hipotecário, avaliando o valor de um imóvel que está sendo usado como garantia.\n",
    "\n",
    "- **Transparência:** Para o mercado imobiliário em geral, ter um modelo de previsão transparente e preciso pode aumentar a confiança dos consumidores e a transparência do mercado, ajudando os compradores a entenderem melhor o valor de um imóvel.\n",
    "\n",
    "O modelo preciso de previsão de preços de imóveis pode agregar valor em muitos aspectos do mercado imobiliário, desde a avaliação e venda de imóveis até decisões de investimento e empréstimo. A chave é garantir que o modelo seja usado de forma adequada e que suas previsões sejam interpretadas corretamente no contexto do mercado local e das características individuais de cada imóvel."
   ]
  },
  {
   "cell_type": "markdown",
   "metadata": {},
   "source": [
    "### Deploy"
   ]
  },
  {
   "cell_type": "code",
   "execution_count": 35,
   "metadata": {},
   "outputs": [
    {
     "data": {
      "text/plain": [
       "['elasticnet_model.joblib']"
      ]
     },
     "execution_count": 35,
     "metadata": {},
     "output_type": "execute_result"
    }
   ],
   "source": [
    "from joblib import dump\n",
    "\n",
    "# Salvar o modelo em um arquivo\n",
    "dump(elasticnet_cv, 'elasticnet_model.joblib')\n"
   ]
  },
  {
   "cell_type": "code",
   "execution_count": 36,
   "metadata": {},
   "outputs": [
    {
     "name": "stdout",
     "output_type": "stream",
     "text": [
      "['Lot.Frontage' 'Lot.Area' 'Lot.Shape' 'Land.Slope' 'Overall.Qual'\n",
      " 'Overall.Cond' 'Mas.Vnr.Area' 'Exter.Qual' 'Exter.Cond' 'BsmtFin.SF.1'\n",
      " 'BsmtFin.SF.2' 'Bsmt.Unf.SF' 'Total.Bsmt.SF' 'Heating.QC' 'Electrical'\n",
      " 'X1st.Flr.SF' 'X2nd.Flr.SF' 'Low.Qual.Fin.SF' 'Gr.Liv.Area'\n",
      " 'Bsmt.Full.Bath' 'Bsmt.Half.Bath' 'Full.Bath' 'Half.Bath' 'Bedroom.AbvGr'\n",
      " 'Kitchen.AbvGr' 'Kitchen.Qual' 'TotRms.AbvGrd' 'Functional' 'Fireplaces'\n",
      " 'Garage.Cars' 'Garage.Area' 'Paved.Drive' 'Wood.Deck.SF' 'Open.Porch.SF'\n",
      " 'Enclosed.Porch' 'X3Ssn.Porch' 'Screen.Porch' 'Pool.Area' 'Fence'\n",
      " 'Misc.Val' 'Mo.Sold' 'Yr.Sold' 'HasShed' 'HasAlley' 'Garage.Age'\n",
      " 'Remod.Age' 'House.Age' 'MS.SubClass_30' 'MS.SubClass_50'\n",
      " 'MS.SubClass_60' 'MS.SubClass_70' 'MS.SubClass_80' 'MS.SubClass_85'\n",
      " 'MS.SubClass_90' 'MS.SubClass_120' 'MS.SubClass_160' 'MS.SubClass_190'\n",
      " 'MS.SubClass_Other' 'MS.Zoning_RH' 'MS.Zoning_RL' 'MS.Zoning_RM'\n",
      " 'Land.Contour_HLS' 'Land.Contour_Low' 'Land.Contour_Lvl'\n",
      " 'Lot.Config_CulDSac' 'Lot.Config_FR2' 'Lot.Config_FR3'\n",
      " 'Lot.Config_Inside' 'Neighborhood_BrDale' 'Neighborhood_BrkSide'\n",
      " 'Neighborhood_ClearCr' 'Neighborhood_CollgCr' 'Neighborhood_Crawfor'\n",
      " 'Neighborhood_Edwards' 'Neighborhood_Gilbert' 'Neighborhood_IDOTRR'\n",
      " 'Neighborhood_MeadowV' 'Neighborhood_Mitchel' 'Neighborhood_NAmes'\n",
      " 'Neighborhood_NPkVill' 'Neighborhood_NWAmes' 'Neighborhood_NoRidge'\n",
      " 'Neighborhood_NridgHt' 'Neighborhood_OldTown' 'Neighborhood_SWISU'\n",
      " 'Neighborhood_Sawyer' 'Neighborhood_SawyerW' 'Neighborhood_Somerst'\n",
      " 'Neighborhood_StoneBr' 'Neighborhood_Timber' 'Neighborhood_Veenker'\n",
      " 'Bldg.Type_2fmCon' 'Bldg.Type_Duplex' 'Bldg.Type_Twnhs'\n",
      " 'Bldg.Type_TwnhsE' 'House.Style_1.5Unf' 'House.Style_1Story'\n",
      " 'House.Style_2.5Fin' 'House.Style_2.5Unf' 'House.Style_2Story'\n",
      " 'House.Style_SFoyer' 'House.Style_SLvl' 'Roof.Style_Hip'\n",
      " 'Roof.Style_Other' 'Mas.Vnr.Type_None' 'Mas.Vnr.Type_Stone'\n",
      " 'Mas.Vnr.Type_Other' 'Foundation_CBlock' 'Foundation_PConc'\n",
      " 'Foundation_Other' 'Bsmt.Qual_Gd' 'Bsmt.Qual_TA' 'Bsmt.Qual_Fa'\n",
      " 'Bsmt.Qual_NA' 'Bsmt.Cond_TA' 'Bsmt.Cond_Fa' 'Bsmt.Cond_NA'\n",
      " 'Bsmt.Exposure_Av' 'Bsmt.Exposure_Mn' 'Bsmt.Exposure_No'\n",
      " 'Bsmt.Exposure_NA' 'BsmtFin.Type.1_ALQ' 'BsmtFin.Type.1_BLQ'\n",
      " 'BsmtFin.Type.1_Rec' 'BsmtFin.Type.1_LwQ' 'BsmtFin.Type.1_Unf'\n",
      " 'BsmtFin.Type.1_NA' 'BsmtFin.Type.2_ALQ' 'BsmtFin.Type.2_BLQ'\n",
      " 'BsmtFin.Type.2_Rec' 'BsmtFin.Type.2_LwQ' 'BsmtFin.Type.2_Unf'\n",
      " 'BsmtFin.Type.2_NA' 'Central.Air_Y' 'Garage.Type_Attchd'\n",
      " 'Garage.Type_Basment' 'Garage.Type_BuiltIn' 'Garage.Type_CarPort'\n",
      " 'Garage.Type_Detchd' 'Garage.Type_NoGarage' 'Garage.Finish_RFn'\n",
      " 'Garage.Finish_Unf' 'Garage.Finish_NoGarage' 'Sale.Type_GroupedWD'\n",
      " 'Sale.Type_Other' 'Sale.Condition_AdjLand' 'Sale.Condition_Alloca'\n",
      " 'Sale.Condition_Family' 'Sale.Condition_Normal' 'Sale.Condition_Partial'\n",
      " 'Condition_Railroad' 'Condition_Roads' 'Condition_Positive'\n",
      " 'Condition_RoadsAndRailroad' 'Exterior_BrkFace' 'Exterior_CemntBd'\n",
      " 'Exterior_HdBoard' 'Exterior_MetalSd' 'Exterior_Plywood'\n",
      " 'Exterior_Stucco' 'Exterior_VinylSd' 'Exterior_Wd Sdng'\n",
      " 'Exterior_WdShing' 'Exterior_Other']\n"
     ]
    }
   ],
   "source": [
    "print(model.feature_names_in_)"
   ]
  },
  {
   "cell_type": "code",
   "execution_count": 44,
   "metadata": {},
   "outputs": [
    {
     "data": {
      "text/plain": [
       "{'Lot.Frontage': [0],\n",
       " 'Lot.Area': [0],\n",
       " 'Lot.Shape': [0],\n",
       " 'Land.Slope': [0],\n",
       " 'Overall.Qual': [0],\n",
       " 'Overall.Cond': [0],\n",
       " 'Mas.Vnr.Area': [0],\n",
       " 'Exter.Qual': [0],\n",
       " 'Exter.Cond': [0],\n",
       " 'BsmtFin.SF.1': [0],\n",
       " 'BsmtFin.SF.2': [0],\n",
       " 'Bsmt.Unf.SF': [0],\n",
       " 'Total.Bsmt.SF': [0],\n",
       " 'Heating.QC': [0],\n",
       " 'Electrical': [0],\n",
       " 'X1st.Flr.SF': [0],\n",
       " 'X2nd.Flr.SF': [0],\n",
       " 'Low.Qual.Fin.SF': [0],\n",
       " 'Gr.Liv.Area': [0],\n",
       " 'Bsmt.Full.Bath': [0],\n",
       " 'Bsmt.Half.Bath': [0],\n",
       " 'Full.Bath': [0],\n",
       " 'Half.Bath': [0],\n",
       " 'Bedroom.AbvGr': [0],\n",
       " 'Kitchen.AbvGr': [0],\n",
       " 'Kitchen.Qual': [0],\n",
       " 'TotRms.AbvGrd': [0],\n",
       " 'Functional': [0],\n",
       " 'Fireplaces': [0],\n",
       " 'Garage.Cars': [0],\n",
       " 'Garage.Area': [0],\n",
       " 'Paved.Drive': [0],\n",
       " 'Wood.Deck.SF': [0],\n",
       " 'Open.Porch.SF': [0],\n",
       " 'Enclosed.Porch': [0],\n",
       " 'X3Ssn.Porch': [0],\n",
       " 'Screen.Porch': [0],\n",
       " 'Pool.Area': [0],\n",
       " 'Fence': [0],\n",
       " 'Misc.Val': [0],\n",
       " 'Mo.Sold': [0],\n",
       " 'Yr.Sold': [0],\n",
       " 'HasShed': [0],\n",
       " 'HasAlley': [0],\n",
       " 'Garage.Age': [0],\n",
       " 'Remod.Age': [0],\n",
       " 'House.Age': [0],\n",
       " 'MS.SubClass_30': [0],\n",
       " 'MS.SubClass_50': [0],\n",
       " 'MS.SubClass_60': [0],\n",
       " 'MS.SubClass_70': [0],\n",
       " 'MS.SubClass_80': [0],\n",
       " 'MS.SubClass_85': [0],\n",
       " 'MS.SubClass_90': [0],\n",
       " 'MS.SubClass_120': [0],\n",
       " 'MS.SubClass_160': [0],\n",
       " 'MS.SubClass_190': [0],\n",
       " 'MS.SubClass_Other': [0],\n",
       " 'MS.Zoning_RH': [0],\n",
       " 'MS.Zoning_RL': [0],\n",
       " 'MS.Zoning_RM': [0],\n",
       " 'Land.Contour_HLS': [0],\n",
       " 'Land.Contour_Low': [0],\n",
       " 'Land.Contour_Lvl': [0],\n",
       " 'Lot.Config_CulDSac': [0],\n",
       " 'Lot.Config_FR2': [0],\n",
       " 'Lot.Config_FR3': [0],\n",
       " 'Lot.Config_Inside': [0],\n",
       " 'Neighborhood_BrDale': [0],\n",
       " 'Neighborhood_BrkSide': [0],\n",
       " 'Neighborhood_ClearCr': [0],\n",
       " 'Neighborhood_CollgCr': [0],\n",
       " 'Neighborhood_Crawfor': [0],\n",
       " 'Neighborhood_Edwards': [0],\n",
       " 'Neighborhood_Gilbert': [0],\n",
       " 'Neighborhood_IDOTRR': [0],\n",
       " 'Neighborhood_MeadowV': [0],\n",
       " 'Neighborhood_Mitchel': [0],\n",
       " 'Neighborhood_NAmes': [0],\n",
       " 'Neighborhood_NPkVill': [0],\n",
       " 'Neighborhood_NWAmes': [0],\n",
       " 'Neighborhood_NoRidge': [0],\n",
       " 'Neighborhood_NridgHt': [0],\n",
       " 'Neighborhood_OldTown': [0],\n",
       " 'Neighborhood_SWISU': [0],\n",
       " 'Neighborhood_Sawyer': [0],\n",
       " 'Neighborhood_SawyerW': [0],\n",
       " 'Neighborhood_Somerst': [0],\n",
       " 'Neighborhood_StoneBr': [0],\n",
       " 'Neighborhood_Timber': [0],\n",
       " 'Neighborhood_Veenker': [0],\n",
       " 'Bldg.Type_2fmCon': [0],\n",
       " 'Bldg.Type_Duplex': [0],\n",
       " 'Bldg.Type_Twnhs': [0],\n",
       " 'Bldg.Type_TwnhsE': [0],\n",
       " 'House.Style_1.5Unf': [0],\n",
       " 'House.Style_1Story': [0],\n",
       " 'House.Style_2.5Fin': [0],\n",
       " 'House.Style_2.5Unf': [0],\n",
       " 'House.Style_2Story': [0],\n",
       " 'House.Style_SFoyer': [0],\n",
       " 'House.Style_SLvl': [0],\n",
       " 'Roof.Style_Hip': [0],\n",
       " 'Roof.Style_Other': [0],\n",
       " 'Mas.Vnr.Type_None': [0],\n",
       " 'Mas.Vnr.Type_Stone': [0],\n",
       " 'Mas.Vnr.Type_Other': [0],\n",
       " 'Foundation_CBlock': [0],\n",
       " 'Foundation_PConc': [0],\n",
       " 'Foundation_Other': [0],\n",
       " 'Bsmt.Qual_Gd': [0],\n",
       " 'Bsmt.Qual_TA': [0],\n",
       " 'Bsmt.Qual_Fa': [0],\n",
       " 'Bsmt.Qual_NA': [0],\n",
       " 'Bsmt.Cond_TA': [0],\n",
       " 'Bsmt.Cond_Fa': [0],\n",
       " 'Bsmt.Cond_NA': [0],\n",
       " 'Bsmt.Exposure_Av': [0],\n",
       " 'Bsmt.Exposure_Mn': [0],\n",
       " 'Bsmt.Exposure_No': [0],\n",
       " 'Bsmt.Exposure_NA': [0],\n",
       " 'BsmtFin.Type.1_ALQ': [0],\n",
       " 'BsmtFin.Type.1_BLQ': [0],\n",
       " 'BsmtFin.Type.1_Rec': [0],\n",
       " 'BsmtFin.Type.1_LwQ': [0],\n",
       " 'BsmtFin.Type.1_Unf': [0],\n",
       " 'BsmtFin.Type.1_NA': [0],\n",
       " 'BsmtFin.Type.2_ALQ': [0],\n",
       " 'BsmtFin.Type.2_BLQ': [0],\n",
       " 'BsmtFin.Type.2_Rec': [0],\n",
       " 'BsmtFin.Type.2_LwQ': [0],\n",
       " 'BsmtFin.Type.2_Unf': [0],\n",
       " 'BsmtFin.Type.2_NA': [0],\n",
       " 'Central.Air_Y': [0],\n",
       " 'Garage.Type_Attchd': [0],\n",
       " 'Garage.Type_Basment': [0],\n",
       " 'Garage.Type_BuiltIn': [0],\n",
       " 'Garage.Type_CarPort': [0],\n",
       " 'Garage.Type_Detchd': [0],\n",
       " 'Garage.Type_NoGarage': [0],\n",
       " 'Garage.Finish_RFn': [0],\n",
       " 'Garage.Finish_Unf': [0],\n",
       " 'Garage.Finish_NoGarage': [0],\n",
       " 'Sale.Type_GroupedWD': [0],\n",
       " 'Sale.Type_Other': [0],\n",
       " 'Sale.Condition_AdjLand': [0],\n",
       " 'Sale.Condition_Alloca': [0],\n",
       " 'Sale.Condition_Family': [0],\n",
       " 'Sale.Condition_Normal': [0],\n",
       " 'Sale.Condition_Partial': [0],\n",
       " 'Condition_Railroad': [0],\n",
       " 'Condition_Roads': [0],\n",
       " 'Condition_Positive': [0],\n",
       " 'Condition_RoadsAndRailroad': [0],\n",
       " 'Exterior_BrkFace': [0],\n",
       " 'Exterior_CemntBd': [0],\n",
       " 'Exterior_HdBoard': [0],\n",
       " 'Exterior_MetalSd': [0],\n",
       " 'Exterior_Plywood': [0],\n",
       " 'Exterior_Stucco': [0],\n",
       " 'Exterior_VinylSd': [0],\n",
       " 'Exterior_Wd Sdng': [0],\n",
       " 'Exterior_WdShing': [0],\n",
       " 'Exterior_Other': [0]}"
      ]
     },
     "execution_count": 44,
     "metadata": {},
     "output_type": "execute_result"
    }
   ],
   "source": [
    "# Creating the JSON using the provided features list\n",
    "\n",
    "features_list = [\n",
    "    \"Lot.Frontage\", \"Lot.Area\", \"Lot.Shape\", \"Land.Slope\", \"Overall.Qual\",\n",
    "    \"Overall.Cond\", \"Mas.Vnr.Area\", \"Exter.Qual\", \"Exter.Cond\", \"BsmtFin.SF.1\",\n",
    "    \"BsmtFin.SF.2\", \"Bsmt.Unf.SF\", \"Total.Bsmt.SF\", \"Heating.QC\", \"Electrical\",\n",
    "    \"X1st.Flr.SF\", \"X2nd.Flr.SF\", \"Low.Qual.Fin.SF\", \"Gr.Liv.Area\",\n",
    "    \"Bsmt.Full.Bath\", \"Bsmt.Half.Bath\", \"Full.Bath\", \"Half.Bath\", \"Bedroom.AbvGr\",\n",
    "    \"Kitchen.AbvGr\", \"Kitchen.Qual\", \"TotRms.AbvGrd\", \"Functional\", \"Fireplaces\",\n",
    "    \"Garage.Cars\", \"Garage.Area\", \"Paved.Drive\", \"Wood.Deck.SF\", \"Open.Porch.SF\",\n",
    "    \"Enclosed.Porch\", \"X3Ssn.Porch\", \"Screen.Porch\", \"Pool.Area\", \"Fence\",\n",
    "    \"Misc.Val\", \"Mo.Sold\", \"Yr.Sold\", \"HasShed\", \"HasAlley\", \"Garage.Age\",\n",
    "    \"Remod.Age\", \"House.Age\", \"MS.SubClass_30\", \"MS.SubClass_50\",\n",
    "    \"MS.SubClass_60\", \"MS.SubClass_70\", \"MS.SubClass_80\", \"MS.SubClass_85\",\n",
    "    \"MS.SubClass_90\", \"MS.SubClass_120\", \"MS.SubClass_160\", \"MS.SubClass_190\",\n",
    "    \"MS.SubClass_Other\", \"MS.Zoning_RH\", \"MS.Zoning_RL\", \"MS.Zoning_RM\",\n",
    "    \"Land.Contour_HLS\", \"Land.Contour_Low\", \"Land.Contour_Lvl\",\n",
    "    \"Lot.Config_CulDSac\", \"Lot.Config_FR2\", \"Lot.Config_FR3\",\n",
    "    \"Lot.Config_Inside\", \"Neighborhood_BrDale\", \"Neighborhood_BrkSide\",\n",
    "    \"Neighborhood_ClearCr\", \"Neighborhood_CollgCr\", \"Neighborhood_Crawfor\",\n",
    "    \"Neighborhood_Edwards\", \"Neighborhood_Gilbert\", \"Neighborhood_IDOTRR\",\n",
    "    \"Neighborhood_MeadowV\", \"Neighborhood_Mitchel\", \"Neighborhood_NAmes\",\n",
    "    \"Neighborhood_NPkVill\", \"Neighborhood_NWAmes\", \"Neighborhood_NoRidge\",\n",
    "    \"Neighborhood_NridgHt\", \"Neighborhood_OldTown\", \"Neighborhood_SWISU\",\n",
    "    \"Neighborhood_Sawyer\", \"Neighborhood_SawyerW\", \"Neighborhood_Somerst\",\n",
    "    \"Neighborhood_StoneBr\", \"Neighborhood_Timber\", \"Neighborhood_Veenker\",\n",
    "    \"Bldg.Type_2fmCon\", \"Bldg.Type_Duplex\", \"Bldg.Type_Twnhs\",\n",
    "    \"Bldg.Type_TwnhsE\", \"House.Style_1.5Unf\", \"House.Style_1Story\",\n",
    "    \"House.Style_2.5Fin\", \"House.Style_2.5Unf\", \"House.Style_2Story\",\n",
    "    \"House.Style_SFoyer\", \"House.Style_SLvl\", \"Roof.Style_Hip\",\n",
    "    \"Roof.Style_Other\", \"Mas.Vnr.Type_None\", \"Mas.Vnr.Type_Stone\",\n",
    "    \"Mas.Vnr.Type_Other\", \"Foundation_CBlock\", \"Foundation_PConc\",\n",
    "    \"Foundation_Other\", \"Bsmt.Qual_Gd\", \"Bsmt.Qual_TA\", \"Bsmt.Qual_Fa\",\n",
    "    \"Bsmt.Qual_NA\", \"Bsmt.Cond_TA\", \"Bsmt.Cond_Fa\", \"Bsmt.Cond_NA\",\n",
    "    \"Bsmt.Exposure_Av\", \"Bsmt.Exposure_Mn\", \"Bsmt.Exposure_No\",\n",
    "    \"Bsmt.Exposure_NA\", \"BsmtFin.Type.1_ALQ\", \"BsmtFin.Type.1_BLQ\",\n",
    "    \"BsmtFin.Type.1_Rec\", \"BsmtFin.Type.1_LwQ\", \"BsmtFin.Type.1_Unf\",\n",
    "    \"BsmtFin.Type.1_NA\", \"BsmtFin.Type.2_ALQ\", \"BsmtFin.Type.2_BLQ\",\n",
    "    \"BsmtFin.Type.2_Rec\", \"BsmtFin.Type.2_LwQ\", \"BsmtFin.Type.2_Unf\",\n",
    "    \"BsmtFin.Type.2_NA\", \"Central.Air_Y\", \"Garage.Type_Attchd\",\n",
    "    \"Garage.Type_Basment\", \"Garage.Type_BuiltIn\", \"Garage.Type_CarPort\",\n",
    "    \"Garage.Type_Detchd\", \"Garage.Type_NoGarage\", \"Garage.Finish_RFn\",\n",
    "    \"Garage.Finish_Unf\", \"Garage.Finish_NoGarage\", \"Sale.Type_GroupedWD\",\n",
    "    \"Sale.Type_Other\", \"Sale.Condition_AdjLand\", \"Sale.Condition_Alloca\",\n",
    "    \"Sale.Condition_Family\", \"Sale.Condition_Normal\", \"Sale.Condition_Partial\",\n",
    "    \"Condition_Railroad\", \"Condition_Roads\", \"Condition_Positive\",\n",
    "    \"Condition_RoadsAndRailroad\", \"Exterior_BrkFace\", \"Exterior_CemntBd\",\n",
    "    \"Exterior_HdBoard\", \"Exterior_MetalSd\", \"Exterior_Plywood\",\n",
    "    \"Exterior_Stucco\", \"Exterior_VinylSd\", \"Exterior_Wd Sdng\",\n",
    "    \"Exterior_WdShing\", \"Exterior_Other\"\n",
    "]\n",
    "\n",
    "# Generating the JSON with all the features set to 0 without using the ellipsis\n",
    "json_example = {feature: [0] for feature in features_list}\n",
    "json_example\n"
   ]
  }
 ],
 "metadata": {
  "kernelspec": {
   "display_name": "Python 3",
   "language": "python",
   "name": "python3"
  },
  "language_info": {
   "codemirror_mode": {
    "name": "ipython",
    "version": 3
   },
   "file_extension": ".py",
   "mimetype": "text/x-python",
   "name": "python",
   "nbconvert_exporter": "python",
   "pygments_lexer": "ipython3",
   "version": "3.9.10"
  }
 },
 "nbformat": 4,
 "nbformat_minor": 2
}
